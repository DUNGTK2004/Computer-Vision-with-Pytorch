{
  "nbformat": 4,
  "nbformat_minor": 0,
  "metadata": {
    "colab": {
      "provenance": [],
      "authorship_tag": "ABX9TyNfaS+qXScSNe8z/389sIif",
      "include_colab_link": true
    },
    "kernelspec": {
      "name": "python3",
      "display_name": "Python 3"
    },
    "language_info": {
      "name": "python"
    }
  },
  "cells": [
    {
      "cell_type": "markdown",
      "metadata": {
        "id": "view-in-github",
        "colab_type": "text"
      },
      "source": [
        "<a href=\"https://colab.research.google.com/github/DUNGTK2004/Computer-Vision-with-Pytorch/blob/main/1_object_counting.ipynb\" target=\"_parent\"><img src=\"https://colab.research.google.com/assets/colab-badge.svg\" alt=\"Open In Colab\"/></a>"
      ]
    },
    {
      "cell_type": "markdown",
      "source": [
        "# Intro to Computer Vision with PyTorch (p1)\n",
        "## -- *Object Counting with CNNs* --\n",
        "\n",
        "\n",
        "---\n",
        "**Toturial Description**\n",
        "\n",
        "\n",
        "*   Deep Learning Libraries Used:\n",
        "\n",
        "  *   pytorch, torchvision, pytorch_ligntning, torchmetrics, cv2\n",
        "\n",
        "\n",
        "\n",
        "\n",
        "\n",
        "\n",
        "\n"
      ],
      "metadata": {
        "id": "SFE0gduA9wAr"
      }
    },
    {
      "cell_type": "markdown",
      "source": [
        "### 1. Import"
      ],
      "metadata": {
        "id": "Jo3foU8I-0HX"
      }
    },
    {
      "cell_type": "code",
      "execution_count": 1,
      "metadata": {
        "id": "uqnHoLE19q2z"
      },
      "outputs": [],
      "source": [
        "\n",
        "# !pip install torch\n",
        "# !pip install torchtext\n",
        "# !pip install torchvision\n",
        "# !pip install pytorch-lightning\n",
        "# !pip install pytorch-lightning-bolts\n",
        "# !pip install torchmetrics\n",
        "# !pip install matplotlib\n",
        "# !pip install numpy\n",
        "# !pip install ipywidgets\n",
        "!pip install opencv-python-headless opencv-python\n",
        "!pip install matplotlib==3.6.0 numpy==1.24.1\n",
        "!pip install torch==1.12.1 torchtext==0.13.1 torchvision==0.13.1\n",
        "!pip install pytorch-lightning\n",
        "!pip install pytorch-lightning-bolts\n",
        "!pip install torchmetrics\n",
        "!pip install ipywidgets"
      ]
    },
    {
      "cell_type": "code",
      "source": [
        "!pip install opencv-python-headless opencv-python"
      ],
      "metadata": {
        "colab": {
          "base_uri": "https://localhost:8080/"
        },
        "id": "Z5JMhZAYLYGI",
        "outputId": "802b9c73-39cc-4a76-a369-0692e598260b"
      },
      "execution_count": 6,
      "outputs": [
        {
          "output_type": "stream",
          "name": "stdout",
          "text": [
            "Collecting opencv-python-headless\n",
            "  Downloading opencv_python_headless-4.10.0.84-cp37-abi3-manylinux_2_17_x86_64.manylinux2014_x86_64.whl.metadata (20 kB)\n",
            "Collecting opencv-python\n",
            "  Downloading opencv_python-4.10.0.84-cp37-abi3-manylinux_2_17_x86_64.manylinux2014_x86_64.whl.metadata (20 kB)\n",
            "Requirement already satisfied: numpy>=1.21.2 in /usr/local/lib/python3.10/dist-packages (from opencv-python-headless) (1.24.1)\n",
            "Downloading opencv_python_headless-4.10.0.84-cp37-abi3-manylinux_2_17_x86_64.manylinux2014_x86_64.whl (49.9 MB)\n",
            "\u001b[2K   \u001b[90m━━━━━━━━━━━━━━━━━━━━━━━━━━━━━━━━━━━━━━━━\u001b[0m \u001b[32m49.9/49.9 MB\u001b[0m \u001b[31m13.3 MB/s\u001b[0m eta \u001b[36m0:00:00\u001b[0m\n",
            "\u001b[?25hDownloading opencv_python-4.10.0.84-cp37-abi3-manylinux_2_17_x86_64.manylinux2014_x86_64.whl (62.5 MB)\n",
            "\u001b[2K   \u001b[90m━━━━━━━━━━━━━━━━━━━━━━━━━━━━━━━━━━━━━━━━\u001b[0m \u001b[32m62.5/62.5 MB\u001b[0m \u001b[31m11.1 MB/s\u001b[0m eta \u001b[36m0:00:00\u001b[0m\n",
            "\u001b[?25hInstalling collected packages: opencv-python-headless, opencv-python\n",
            "Successfully installed opencv-python-4.10.0.84 opencv-python-headless-4.10.0.84\n"
          ]
        }
      ]
    },
    {
      "cell_type": "code",
      "source": [
        "import torch\n",
        "torch.__version__"
      ],
      "metadata": {
        "colab": {
          "base_uri": "https://localhost:8080/",
          "height": 35
        },
        "id": "XSbBvs7v_dit",
        "outputId": "43da41ee-08c9-4174-e311-0e707c26341d"
      },
      "execution_count": 7,
      "outputs": [
        {
          "output_type": "execute_result",
          "data": {
            "text/plain": [
              "'2.4.0+cu121'"
            ],
            "application/vnd.google.colaboratory.intrinsic+json": {
              "type": "string"
            }
          },
          "metadata": {},
          "execution_count": 7
        }
      ]
    },
    {
      "cell_type": "code",
      "source": [
        "# Deep learning imports.\n",
        "import torch\n",
        "from torch import nn\n",
        "import torch.nn.functional as F\n",
        "from torch.utils.data import DataLoader, random_split, TensorDataset\n",
        "\n",
        "import torchvision\n",
        "from torchvision.utils import draw_bounding_boxes, draw_segmentation_masks, make_grid\n",
        "from torchvision.ops import masks_to_boxes\n",
        "import torchvision.transforms.functional as TF\n",
        "from torchvision.models.detection.faster_rcnn import FastRCNNPredictor\n",
        "from torchvision.models.detection.mask_rcnn import MaskRCNNPredictor\n",
        "\n",
        "import pytorch_lightning as pl\n",
        "from pytorch_lightning.callbacks import ModelCheckpoint\n",
        "from pytorch_lightning.loggers import TensorBoardLogger\n",
        "\n",
        "import torchmetrics\n",
        "\n",
        "# Standard imports.\n",
        "from typing import List, Union\n",
        "import gc\n",
        "import matplotlib.pyplot as plt\n",
        "import numpy as np\n",
        "import cv2\n",
        "\n",
        "# Necessary for creating our images.\n",
        "from skimage.draw import line_aa\n",
        "\n",
        "# Interactive widgets for data viz\n",
        "import ipywidgets as widgets\n",
        "from ipywidgets import interact"
      ],
      "metadata": {
        "id": "pihFV9FI_4D-"
      },
      "execution_count": 8,
      "outputs": []
    },
    {
      "cell_type": "markdown",
      "source": [
        "### 2. Pytorch Dataset"
      ],
      "metadata": {
        "id": "mzjg9VK_Eugi"
      }
    },
    {
      "cell_type": "code",
      "source": [
        "class Draw:\n",
        "  # Class used to draw shapes onto images\n",
        "  def __init__(self, img_size, rng):\n",
        "\n",
        "    self.img_size = img_size\n",
        "    self.rng = rng\n",
        "\n",
        "    return None\n",
        "  def rectangle(self):\n",
        "    '''\n",
        "    Returns the image coordinates of a rectangle.\n",
        "    '''\n",
        "    # Min and Max rectangle height.\n",
        "    a = self.rng.integers(self.img_size * 3 / 20, self.img_size * 7 / 20)\n",
        "    b = self.rng.integers(self.img_size * 3 / 20, self.img_size * 7 / 20)\n",
        "\n",
        "    # Initial coordinates of the rectangle\n",
        "    xx, yy = np.where(np.ones((a, b)) == 1)\n",
        "\n",
        "    # Place the rectangle randomly in the image.\n",
        "    cx = self.rng.integers(0 + a, self.img_size - a)\n",
        "    cy = self.rng.integers(0 + b, self.img_size - b)\n",
        "\n",
        "    rectangle = xx + cx, yy + cy\n",
        "\n",
        "    return rectangle\n",
        "  def line(self):\n",
        "    '''\n",
        "    Returns the image coordinates of a line\n",
        "    '''\n",
        "    # Randomly choose the start and end coordinates\n",
        "    a, b = self.rng.integers(0, self.img_size / 3, size=2)\n",
        "    c, d = self.rng.integers(self.img_size / 2, self.img_size, size=2)\n",
        "\n",
        "    # Flip a coin to see if slope of line is + or -\n",
        "    coin_flip = self.rng.integers(low=0, hign=2)\n",
        "    # Use a skimage.draw method to draw the line\n",
        "    if coin_flip:\n",
        "      xx, yy, _ = line_aa(a, b, c, d)\n",
        "    else:\n",
        "      xx, yy, _ = line_aa(a, d, c, b)\n",
        "    line = xx, yy\n",
        "\n",
        "    return line\n",
        "  def donut(self):\n",
        "    '''\n",
        "    Return the image coordinates of an elliptical donut\n",
        "    '''\n",
        "    # Define a grid\n",
        "    xx, yy = np.mgrid[: self.img_size, : self.img_size]\n",
        "    cx = self.rng.integers(0, self.img_size)\n",
        "    cy = self.rng.integers(0, self.img_size)\n",
        "\n",
        "    # Define the width of the donut.\n",
        "    width = self.rng.uniform(self.img_size / 3, self.img_size)\n",
        "\n",
        "    # Give the donut some elliptical nature\n",
        "    e0 = self.rng.uniform(0.1, 5)\n",
        "    e1 = self.rng.uniform(0.1, 5)\n",
        "\n",
        "    # Use the forumula for an ellipse\n",
        "    ellipse = e0 * (xx - cx) ** 2 + e1 * (yy - cy) ** 2\n",
        "\n",
        "    donut = (ellipse < (self.img_size + width)) & (\n",
        "        ellipse > (self.img_size - width)\n",
        "    )\n",
        "\n",
        "    return donut"
      ],
      "metadata": {
        "id": "r0qKist3CQtN"
      },
      "execution_count": null,
      "outputs": []
    }
  ]
}